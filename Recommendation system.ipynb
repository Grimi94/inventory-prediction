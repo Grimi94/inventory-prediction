{
 "cells": [
  {
   "cell_type": "code",
   "execution_count": 1,
   "metadata": {
    "collapsed": true
   },
   "outputs": [],
   "source": [
    "import pandas as pd\n",
    "import numpy as np\n",
    "import matplotlib.pyplot as plt\n",
    "import seaborn\n",
    "%matplotlib inline"
   ]
  },
  {
   "cell_type": "code",
   "execution_count": 2,
   "metadata": {
    "collapsed": false
   },
   "outputs": [
    {
     "name": "stderr",
     "output_type": "stream",
     "text": [
      "/Users/Grimi/anaconda/lib/python2.7/site-packages/ipykernel/__main__.py:4: FutureWarning: convert_objects is deprecated.  Use the data-type specific converters pd.to_datetime, pd.to_timedelta and pd.to_numeric.\n"
     ]
    }
   ],
   "source": [
    "def read_data(path):\n",
    "    df = pd.read_csv(path, parse_dates=['FECHA'], infer_datetime_format=True)\n",
    "    df['CPRECIO'] = df[' CPRECIO '].map(lambda x: x.strip().replace(\",\", \"\"))\n",
    "    df['CPRECIO'] = df['CPRECIO'].convert_objects(convert_numeric=True)\n",
    "    df['COSTOPESOS'] = df[' COSTOPESOS ']\n",
    "    df = df.drop([' CPRECIO ', ' COSTOPESOS '], axis=1)\n",
    "    cols = df.columns.values \n",
    "    cols[-3] = \"YEAR\"\n",
    "    df.columns = cols\n",
    "    return df\n",
    "\n",
    "def read_test_data(path):\n",
    "    df = pd.read_csv(path, parse_dates=['FECHA'], infer_datetime_format=True)\n",
    "    df['CPRECIO'] = df[' CPRECIO ']\n",
    "    df['COSTOPESOS'] = df[' COSTOPESOS ']\n",
    "    df = df.drop([' CPRECIO ', ' COSTOPESOS '], axis=1)\n",
    "    cols = df.columns.values \n",
    "    cols[-3] = \"YEAR\"\n",
    "    df.columns = cols\n",
    "    return df\n",
    "\n",
    "def calculate_extra_cols(df):\n",
    "    df['total_price'] =  df['CPRECIO'] * df['#UNIDADES'] * df['CTIPOCAM01']\n",
    "    return df\n",
    "\n",
    "df = read_data('./BASEVENTAS2010A2015.csv')\n",
    "df = calculate_extra_cols(df)\n",
    "\n",
    "# Cleanup all the spaces\n",
    "df[\"MARCA\"] = df[\"MARCA\"].map(lambda x: x.strip())\n",
    "df[\"IDPRODUCTO\"] = df[\"IDPRODUCTO\"].map(lambda x: x.strip())"
   ]
  },
  {
   "cell_type": "code",
   "execution_count": 3,
   "metadata": {
    "collapsed": false
   },
   "outputs": [
    {
     "name": "stdout",
     "output_type": "stream",
     "text": [
      "<class 'pandas.core.frame.DataFrame'>\n",
      "RangeIndex: 154737 entries, 0 to 154736\n",
      "Data columns (total 3 columns):\n",
      "FOLIO_FACTURA    154737 non-null object\n",
      "IDPRODUCTO       154737 non-null object\n",
      "#UNIDADES        154737 non-null float64\n",
      "dtypes: float64(1), object(2)\n",
      "memory usage: 3.5+ MB\n"
     ]
    }
   ],
   "source": [
    "subdf = df[[\"FOLIO_FACTURA\", \"IDPRODUCTO\", \"#UNIDADES\"]]\n",
    "subdf.info()"
   ]
  },
  {
   "cell_type": "markdown",
   "metadata": {},
   "source": [
    "### Build Order to Product Matrix"
   ]
  },
  {
   "cell_type": "code",
   "execution_count": 4,
   "metadata": {
    "collapsed": false
   },
   "outputs": [],
   "source": [
    "order_prod = subdf.groupby([\"FOLIO_FACTURA\", \"IDPRODUCTO\"]).count().unstack()\n",
    "order_prod = order_prod.fillna(0)\n",
    "order_prod = order_prod[\"#UNIDADES\"]"
   ]
  },
  {
   "cell_type": "code",
   "execution_count": 5,
   "metadata": {
    "collapsed": false,
    "scrolled": true
   },
   "outputs": [
    {
     "data": {
      "text/plain": [
       "(19352, 15579)"
      ]
     },
     "execution_count": 5,
     "metadata": {},
     "output_type": "execute_result"
    }
   ],
   "source": [
    "order_prod.shape"
   ]
  },
  {
   "cell_type": "markdown",
   "metadata": {},
   "source": [
    "### For product 25967 lets see which products are usually bought together"
   ]
  },
  {
   "cell_type": "code",
   "execution_count": 16,
   "metadata": {
    "collapsed": false,
    "scrolled": true
   },
   "outputs": [
    {
     "data": {
      "text/plain": [
       "IDPRODUCTO\n",
       "25967       527.0\n",
       "62382       166.0\n",
       "1668111      61.0\n",
       "2966171      49.0\n",
       "FAC_PROY     48.0\n",
       "ANTICIPO     42.0\n",
       "62985        42.0\n",
       "1501252      41.0\n",
       "1668124      41.0\n",
       "dtype: float64"
      ]
     },
     "execution_count": 16,
     "metadata": {},
     "output_type": "execute_result"
    }
   ],
   "source": [
    "order_prod[order_prod[\"25967\"] == 1].sum(axis=0).sort_values()[:-10:-1]"
   ]
  },
  {
   "cell_type": "markdown",
   "metadata": {},
   "source": [
    "### We create the pairwise distance between products and similarity matrix"
   ]
  },
  {
   "cell_type": "code",
   "execution_count": 8,
   "metadata": {
    "collapsed": false
   },
   "outputs": [],
   "source": [
    "from sklearn.metrics.pairwise import pairwise_distances, cosine_similarity\n",
    "\n",
    "similarities = cosine_similarity(order_prod.values.T)\n",
    "distances = pairwise_distances(order_prod.values.T, metric=\"cosine\")"
   ]
  },
  {
   "cell_type": "code",
   "execution_count": 9,
   "metadata": {
    "collapsed": false
   },
   "outputs": [
    {
     "name": "stdout",
     "output_type": "stream",
     "text": [
      "(15579, 15579) (15579, 15579)\n"
     ]
    }
   ],
   "source": [
    "# Confirm that we have the correct shape\n",
    "print distances.shape, similarities.shape"
   ]
  },
  {
   "cell_type": "code",
   "execution_count": 10,
   "metadata": {
    "collapsed": false
   },
   "outputs": [],
   "source": [
    "# For speed and ease lets create a lookup dictionary for item indices\n",
    "item_dict = {}\n",
    "item_arr = order_prod.columns\n",
    "for idx, product in enumerate(order_prod.columns):\n",
    "    item_dict[product] = idx"
   ]
  },
  {
   "cell_type": "code",
   "execution_count": 11,
   "metadata": {
    "collapsed": false
   },
   "outputs": [
    {
     "data": {
      "text/plain": [
       "[('', 0),\n",
       " ('PF113AE', 14176),\n",
       " ('1SFA897108R7000', 3570),\n",
       " ('35549', 6158),\n",
       " ('73466', 7763),\n",
       " ('WLG2LDM1GJ03M', 15259),\n",
       " ('1SFA616921R2222', 3539),\n",
       " ('B8534M2-20', 8981),\n",
       " ('1SFA616921R2225', 3540),\n",
       " ('E2EQX7D1M1GJ', 9890)]"
      ]
     },
     "execution_count": 11,
     "metadata": {},
     "output_type": "execute_result"
    }
   ],
   "source": [
    "item_dict.items()[:10]"
   ]
  },
  {
   "cell_type": "markdown",
   "metadata": {},
   "source": [
    "### Lets get some indices for the products commonly bought for item: 25967"
   ]
  },
  {
   "cell_type": "code",
   "execution_count": 12,
   "metadata": {
    "collapsed": false
   },
   "outputs": [
    {
     "name": "stdout",
     "output_type": "stream",
     "text": [
      "4164 7112 2222 5085\n"
     ]
    }
   ],
   "source": [
    "print item_dict[\"25967\"], item_dict[\"62382\"], item_dict[\"1668111\"], item_dict[\"2966171\"]"
   ]
  },
  {
   "cell_type": "markdown",
   "metadata": {},
   "source": [
    "### Now lets get the row for item: 25967 with index: 4164"
   ]
  },
  {
   "cell_type": "code",
   "execution_count": 13,
   "metadata": {
    "collapsed": false
   },
   "outputs": [],
   "source": [
    "distance = distances[4164]\n",
    "similarity = similarities[4164]"
   ]
  },
  {
   "cell_type": "markdown",
   "metadata": {},
   "source": [
    "### And test agains the indices that we found earlier"
   ]
  },
  {
   "cell_type": "code",
   "execution_count": 14,
   "metadata": {
    "collapsed": false
   },
   "outputs": [
    {
     "name": "stdout",
     "output_type": "stream",
     "text": [
      "0.527598695574 0.940160928459 0.952429831149 62382\n",
      "0.472401304426 0.0598390715411 0.0475701688511 62382\n"
     ]
    }
   ],
   "source": [
    "print distance[7112], distance[2222], distance[5085], item_arr[7112]\n",
    "print similarity[7112], similarity[2222], similarity[5085], item_arr[7112]"
   ]
  },
  {
   "cell_type": "code",
   "execution_count": null,
   "metadata": {
    "collapsed": true
   },
   "outputs": [],
   "source": []
  }
 ],
 "metadata": {
  "kernelspec": {
   "display_name": "Python [Root]",
   "language": "python",
   "name": "Python [Root]"
  },
  "language_info": {
   "codemirror_mode": {
    "name": "ipython",
    "version": 2
   },
   "file_extension": ".py",
   "mimetype": "text/x-python",
   "name": "python",
   "nbconvert_exporter": "python",
   "pygments_lexer": "ipython2",
   "version": "2.7.12"
  }
 },
 "nbformat": 4,
 "nbformat_minor": 0
}
